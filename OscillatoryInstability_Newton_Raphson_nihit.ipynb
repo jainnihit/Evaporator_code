{
 "cells": [
  {
   "cell_type": "code",
   "execution_count": 1,
   "metadata": {},
   "outputs": [],
   "source": [
    "#to make inline plots\n",
    "%matplotlib inline "
   ]
  },
  {
   "cell_type": "code",
   "execution_count": 9,
   "metadata": {},
   "outputs": [
    {
     "name": "stdout",
     "output_type": "stream",
     "text": [
      "('X=', 3.0)\n"
     ]
    },
    {
     "data": {
      "image/png": "[encoded data removed]",
      "text/plain": [
       "<matplotlib.figure.Figure at 0x8df0898>"
      ]
     },
     "metadata": {},
     "output_type": "display_data"
    }
   ],
   "source": [
    "#Example of Direct Substitution\n",
    "from numpy import fabs, linspace, exp #import absolute value function, fabs from numpy library, linspace for creating arrays\n",
    "import matplotlib.pyplot as plt #for plotting\n",
    "\n",
    "Xold=3.0 #initial guess\n",
    "error=1.0e9 #some large value \n",
    "tolerance=1.0e-15\n",
    "\n",
    "Xa=[] #empty arrays to store X values\n",
    "fXa=[] #empty arrays to store f(X) values\n",
    "\n",
    "while error>tolerance:\n",
    "    print (\"X=\", Xold) \n",
    "    Xnew=Xold - ((3-Xold))/(-1) #new value of X\n",
    "    Xa.append(Xold) #append Xnew to Xa\n",
    "    fXa.append(Xnew)    #append Y to Y\n",
    "    error=fabs(Xnew-Xold) #absolute value of error\n",
    "    Xold=Xnew #set Xold to Xnew for next iteration\n",
    "\n",
    "#Plotting\n",
    "plt.xlabel('X')\n",
    "plt.ylabel('Xnew')\n",
    "plt.plot(Xa,fXa,'*-',Xa,Xa) \n",
    "plt.legend([\"Xnew=f(X)\",\"Xnew=X\"],loc=\"upper left\")\n",
    "plt.show()"
   ]
  },
  {
   "cell_type": "code",
   "execution_count": null,
   "metadata": {},
   "outputs": [],
   "source": []
  }
 ],
 "metadata": {
  "kernelspec": {
   "display_name": "Python 2",
   "language": "python",
   "name": "python2"
  },
  "language_info": {
   "codemirror_mode": {
    "name": "ipython",
    "version": 2
   },
   "file_extension": ".py",
   "mimetype": "text/x-python",
   "name": "python",
   "nbconvert_exporter": "python",
   "pygments_lexer": "ipython2",
   "version": "2.7.14"
  }
 },
 "nbformat": 4,
 "nbformat_minor": 2
}
