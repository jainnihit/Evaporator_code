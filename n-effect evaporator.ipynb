{
 "cells": [
  {
   "cell_type": "code",
   "execution_count": 1,
   "metadata": {},
   "outputs": [],
   "source": [
    "from numpy import array\n",
    "#input variables\n",
    "F=20000 #mol/hr\n",
    "xf = 0.1\n",
    "xn = 0.85\n",
    "n = 10 #assume"
   ]
  },
  {
   "cell_type": "code",
   "execution_count": 2,
   "metadata": {},
   "outputs": [
    {
     "name": "stdout",
     "output_type": "stream",
     "text": [
      "[20000, 18235.29411764706, 16470.58823529412, 14705.882352941178, 12941.176470588238, 11176.470588235297, 9411.764705882357, 7647.058823529415, 5882.352941176474, 4117.6470588235325, 2352.9411764705883, 17647.058823529413]\n",
      "F:20000\n",
      "L1:18235.2941176\n",
      "L2:16470.5882353\n",
      "L3:14705.8823529\n",
      "L4:12941.1764706\n",
      "L5:11176.4705882\n",
      "L6:9411.76470588\n",
      "L7:7647.05882353\n",
      "L8:5882.35294118\n",
      "L9:4117.64705882\n",
      "L10:2352.94117647\n",
      "S:17647.0588235\n"
     ]
    }
   ],
   "source": [
    "#fn(X) is the function vector where X is the vector of unknown variables [S L1 L2 L3 L4 ..... Ln]\n",
    "#S = F-L1\n",
    "#S=L1-L2\n",
    "#.....\n",
    "#S=L(n-1) - Ln\n",
    "\n",
    "L = []\n",
    "\n",
    "Ln = (F*xf)/xn\n",
    "S = (F-Ln)/n\n",
    "L.append(F) #appending F in L\n",
    "i = 0    #initiating i for while loop\n",
    "while(i<n-1):\n",
    "    L.append(L[-1] - S)\n",
    "    i = i+1\n",
    "L.append(Ln) #appending Ln\n",
    "L.append(10*S) #appending S 10 times for n effect\n",
    "print(L)\n",
    "i = 1\n",
    "print(\"F:\"+str(L[0]) )\n",
    "while (i<(len(L)-1)):\n",
    "    print(\"L\"+str(i) +\":\" + str(L[i]))\n",
    "    i = i+1\n",
    "print(\"S:\" + str(L[11]))"
   ]
  },
  {
   "cell_type": "markdown",
   "metadata": {},
   "source": [
    "#Similarly, we can do for any n\n",
    "#We can also assume S instead of xn"
   ]
  },
  {
   "cell_type": "code",
   "execution_count": null,
   "metadata": {},
   "outputs": [],
   "source": []
  }
 ],
 "metadata": {
  "kernelspec": {
   "display_name": "Python 2",
   "language": "python",
   "name": "python2"
  },
  "language_info": {
   "codemirror_mode": {
    "name": "ipython",
    "version": 2
   },
   "file_extension": ".py",
   "mimetype": "text/x-python",
   "name": "python",
   "nbconvert_exporter": "python",
   "pygments_lexer": "ipython2",
   "version": "2.7.14"
  }
 },
 "nbformat": 4,
 "nbformat_minor": 2
}
